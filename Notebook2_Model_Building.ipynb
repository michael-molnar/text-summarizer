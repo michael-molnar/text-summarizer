{
 "cells": [
  {
   "cell_type": "markdown",
   "id": "expanded-still",
   "metadata": {},
   "source": [
    "## AIDI 2004 - AI in Enterprise Systems\n",
    "\n",
    "### FINAL PROJECT\n",
    "\n",
    "by Michael Molnar and Vasundara Chandre Gowda"
   ]
  },
  {
   "cell_type": "markdown",
   "id": "mobile-implement",
   "metadata": {},
   "source": [
    "Condensing long passages of text into short and representative snippets is a important task in natural language processing.  People can often be left frustrated at the end of reading an article, having found they had been fooled by a sensation, clickbait headline. \n",
    "\n",
    "In this project we will train and build our own deep learning model that will generate a novel summary that captures the main points of a news article, product review, or other text sample.    \n",
    "\n",
    "We will build a web application and deploy our model for use. "
   ]
  },
  {
   "cell_type": "markdown",
   "id": "auburn-shape",
   "metadata": {},
   "source": [
    "### NOTEBOOK 2:\n",
    "\n",
    "In this notebook we will load our cleaned dataset.  We will examine the lenghts of the review texts and sumamries and then begin the process of building and training our abstractive summarization model. "
   ]
  },
  {
   "cell_type": "code",
   "execution_count": 53,
   "id": "digital-discovery",
   "metadata": {},
   "outputs": [],
   "source": [
    "import numpy as np\n",
    "import pandas as pd\n",
    "import seaborn as sns\n",
    "import matplotlib.pyplot as plt\n",
    "from sklearn.model_selection import train_test_split\n",
    "from tensorflow.keras.preprocessing.text import Tokenizer\n",
    "from tensorflow.keras.preprocessing.sequence import pad_sequences \n",
    "from tensorflow.keras.models import Model\n",
    "from tensorflow.keras.layers import Input, LSTM, Embedding, Dense, Concatenate, TimeDistributed, Bidirectional\n",
    "from tensorflow.keras.callbacks import EarlyStopping\n",
    "import pickle"
   ]
  },
  {
   "cell_type": "markdown",
   "id": "thorough-study",
   "metadata": {},
   "source": [
    "### Loading the Cleaned Data"
   ]
  },
  {
   "cell_type": "code",
   "execution_count": 2,
   "id": "daily-powell",
   "metadata": {},
   "outputs": [
    {
     "data": {
      "text/html": [
       "<div>\n",
       "<style scoped>\n",
       "    .dataframe tbody tr th:only-of-type {\n",
       "        vertical-align: middle;\n",
       "    }\n",
       "\n",
       "    .dataframe tbody tr th {\n",
       "        vertical-align: top;\n",
       "    }\n",
       "\n",
       "    .dataframe thead th {\n",
       "        text-align: right;\n",
       "    }\n",
       "</style>\n",
       "<table border=\"1\" class=\"dataframe\">\n",
       "  <thead>\n",
       "    <tr style=\"text-align: right;\">\n",
       "      <th></th>\n",
       "      <th>Unnamed: 0</th>\n",
       "      <th>Summary</th>\n",
       "      <th>Text</th>\n",
       "      <th>cleaned_text</th>\n",
       "      <th>cleaned_summary</th>\n",
       "    </tr>\n",
       "  </thead>\n",
       "  <tbody>\n",
       "    <tr>\n",
       "      <th>0</th>\n",
       "      <td>0</td>\n",
       "      <td>Good Quality Dog Food</td>\n",
       "      <td>I have bought several of the Vitality canned d...</td>\n",
       "      <td>bought several vitality canned dog food produc...</td>\n",
       "      <td>_START_ good quality dog food _END_</td>\n",
       "    </tr>\n",
       "    <tr>\n",
       "      <th>1</th>\n",
       "      <td>1</td>\n",
       "      <td>Not as Advertised</td>\n",
       "      <td>Product arrived labeled as Jumbo Salted Peanut...</td>\n",
       "      <td>product arrived labeled jumbo salted peanuts p...</td>\n",
       "      <td>_START_ not as advertised _END_</td>\n",
       "    </tr>\n",
       "    <tr>\n",
       "      <th>2</th>\n",
       "      <td>2</td>\n",
       "      <td>\"Delight\" says it all</td>\n",
       "      <td>This is a confection that has been around a fe...</td>\n",
       "      <td>confection around centuries light pillowy citr...</td>\n",
       "      <td>_START_ delight says it all _END_</td>\n",
       "    </tr>\n",
       "    <tr>\n",
       "      <th>3</th>\n",
       "      <td>3</td>\n",
       "      <td>Cough Medicine</td>\n",
       "      <td>If you are looking for the secret ingredient i...</td>\n",
       "      <td>looking secret ingredient robitussin believe f...</td>\n",
       "      <td>_START_ cough medicine _END_</td>\n",
       "    </tr>\n",
       "    <tr>\n",
       "      <th>4</th>\n",
       "      <td>4</td>\n",
       "      <td>Great taffy</td>\n",
       "      <td>Great taffy at a great price.  There was a wid...</td>\n",
       "      <td>great taffy great price wide assortment yummy ...</td>\n",
       "      <td>_START_ great taffy _END_</td>\n",
       "    </tr>\n",
       "  </tbody>\n",
       "</table>\n",
       "</div>"
      ],
      "text/plain": [
       "   Unnamed: 0                Summary  \\\n",
       "0           0  Good Quality Dog Food   \n",
       "1           1      Not as Advertised   \n",
       "2           2  \"Delight\" says it all   \n",
       "3           3         Cough Medicine   \n",
       "4           4            Great taffy   \n",
       "\n",
       "                                                Text  \\\n",
       "0  I have bought several of the Vitality canned d...   \n",
       "1  Product arrived labeled as Jumbo Salted Peanut...   \n",
       "2  This is a confection that has been around a fe...   \n",
       "3  If you are looking for the secret ingredient i...   \n",
       "4  Great taffy at a great price.  There was a wid...   \n",
       "\n",
       "                                        cleaned_text  \\\n",
       "0  bought several vitality canned dog food produc...   \n",
       "1  product arrived labeled jumbo salted peanuts p...   \n",
       "2  confection around centuries light pillowy citr...   \n",
       "3  looking secret ingredient robitussin believe f...   \n",
       "4  great taffy great price wide assortment yummy ...   \n",
       "\n",
       "                       cleaned_summary  \n",
       "0  _START_ good quality dog food _END_  \n",
       "1      _START_ not as advertised _END_  \n",
       "2    _START_ delight says it all _END_  \n",
       "3         _START_ cough medicine _END_  \n",
       "4            _START_ great taffy _END_  "
      ]
     },
     "execution_count": 2,
     "metadata": {},
     "output_type": "execute_result"
    }
   ],
   "source": [
    "# Load the cleaned dataset\n",
    "df = pd.read_csv('cleaned_reviews.csv')\n",
    "df.head()"
   ]
  },
  {
   "cell_type": "markdown",
   "id": "natural-birmingham",
   "metadata": {},
   "source": [
    "### Getting the Lengths of the Cleaned Text and Cleaned Summaries"
   ]
  },
  {
   "cell_type": "code",
   "execution_count": 3,
   "id": "comfortable-storm",
   "metadata": {},
   "outputs": [],
   "source": [
    "# Count the number of tokens in each cleaned_text\n",
    "df['cleaned_text_words'] = df['cleaned_text'].apply(lambda x: len(str(x).split()))"
   ]
  },
  {
   "cell_type": "code",
   "execution_count": 4,
   "id": "secondary-continent",
   "metadata": {},
   "outputs": [
    {
     "data": {
      "text/plain": [
       "count    394618.000000\n",
       "mean         39.464627\n",
       "std          39.202397\n",
       "min           1.000000\n",
       "25%          17.000000\n",
       "50%          28.000000\n",
       "75%          48.000000\n",
       "max        1974.000000\n",
       "Name: cleaned_text_words, dtype: float64"
      ]
     },
     "execution_count": 4,
     "metadata": {},
     "output_type": "execute_result"
    }
   ],
   "source": [
    "# Get the statistics\n",
    "df['cleaned_text_words'].describe()"
   ]
  },
  {
   "cell_type": "markdown",
   "id": "whole-reducing",
   "metadata": {},
   "source": [
    "We see that the average review text is now about 40 words (it was about 80 before the pre-processing).  Three quarters of all the reviews are 48 words or less."
   ]
  },
  {
   "cell_type": "code",
   "execution_count": 5,
   "id": "acceptable-evening",
   "metadata": {},
   "outputs": [
    {
     "data": {
      "text/plain": [
       "<seaborn.axisgrid.FacetGrid at 0x1e2226534f0>"
      ]
     },
     "execution_count": 5,
     "metadata": {},
     "output_type": "execute_result"
    },
    {
     "data": {
      "image/png": "[encoded data removed]",
      "text/plain": [
       "<Figure size 360x360 with 1 Axes>"
      ]
     },
     "metadata": {
      "needs_background": "light"
     },
     "output_type": "display_data"
    }
   ],
   "source": [
    "# Plot the cleaned text lengths as a density plot\n",
    "sns.displot(x = 'cleaned_text_words', data = df[df['cleaned_text_words'] < 50], kind = 'kde')"
   ]
  },
  {
   "cell_type": "markdown",
   "id": "accompanied-service",
   "metadata": {},
   "source": [
    "Filtering for reviews under 50 words, we see that the density plot shows the most common review length is slightly less than 20 words.  "
   ]
  },
  {
   "cell_type": "code",
   "execution_count": 6,
   "id": "engaging-respect",
   "metadata": {},
   "outputs": [],
   "source": [
    "# Count the number of tokens in each cleaned_summary\n",
    "df['cleaned_summary_words'] = df['cleaned_summary'].apply(lambda x: len(str(x).split()))"
   ]
  },
  {
   "cell_type": "code",
   "execution_count": 7,
   "id": "static-salad",
   "metadata": {},
   "outputs": [
    {
     "data": {
      "text/plain": [
       "count    394618.000000\n",
       "mean          5.962455\n",
       "std           2.449166\n",
       "min           3.000000\n",
       "25%           4.000000\n",
       "50%           5.000000\n",
       "75%           7.000000\n",
       "max          30.000000\n",
       "Name: cleaned_summary_words, dtype: float64"
      ]
     },
     "execution_count": 7,
     "metadata": {},
     "output_type": "execute_result"
    }
   ],
   "source": [
    "# Get the statistics\n",
    "df['cleaned_summary_words'].describe()"
   ]
  },
  {
   "cell_type": "markdown",
   "id": "received-pointer",
   "metadata": {},
   "source": [
    "Since we have added starting and ending tokens to our summaries, our average length has increased to 6 tokens.  We see that three quarters of our summaries are 7 tokens or less, while the maximum has dropped from 42 (before pre-processing) to 30. "
   ]
  },
  {
   "cell_type": "code",
   "execution_count": 8,
   "id": "occupational-detail",
   "metadata": {},
   "outputs": [
    {
     "data": {
      "text/plain": [
       "<seaborn.axisgrid.FacetGrid at 0x1e228046d00>"
      ]
     },
     "execution_count": 8,
     "metadata": {},
     "output_type": "execute_result"
    },
    {
     "data": {
      "image/png": "[encoded data removed]",
      "text/plain": [
       "<Figure size 360x360 with 1 Axes>"
      ]
     },
     "metadata": {
      "needs_background": "light"
     },
     "output_type": "display_data"
    }
   ],
   "source": [
    "# Plot cleaned summary lengths as a density plot\n",
    "sns.displot(x = 'cleaned_summary_words', data = df[df['cleaned_summary_words'] < 10], kind = 'kde', color = 'green')"
   ]
  },
  {
   "cell_type": "markdown",
   "id": "beneficial-panel",
   "metadata": {},
   "source": [
    "Filtering for summaries under 10 tokens, we see that the density plot shows the most common summary lenghts are 4 or 5 tokens."
   ]
  },
  {
   "cell_type": "markdown",
   "id": "filled-surge",
   "metadata": {},
   "source": [
    "We want to determine an appropriate length at which to limit our summary generation model.  We first check how many rows we will have if we limit the to only summaries 10 tokens or less."
   ]
  },
  {
   "cell_type": "code",
   "execution_count": 9,
   "id": "minor-lawrence",
   "metadata": {},
   "outputs": [
    {
     "data": {
      "text/plain": [
       "(360112, 7)"
      ]
     },
     "execution_count": 9,
     "metadata": {},
     "output_type": "execute_result"
    }
   ],
   "source": [
    "# Filter by rows with cleaned summaries less than 10 tokens long\n",
    "df10 = df[df['cleaned_summary_words'] < 10]\n",
    "df10.shape"
   ]
  },
  {
   "cell_type": "markdown",
   "id": "residential-lover",
   "metadata": {},
   "source": [
    "We see that this leaves us still with over 360k rows.  Now, we will filter this again, removing any rows where the cleaned text exceeds 50 words."
   ]
  },
  {
   "cell_type": "code",
   "execution_count": 10,
   "id": "critical-angel",
   "metadata": {},
   "outputs": [
    {
     "data": {
      "text/plain": [
       "(283199, 7)"
      ]
     },
     "execution_count": 10,
     "metadata": {},
     "output_type": "execute_result"
    }
   ],
   "source": [
    "# Further filter by rows with cleaned text less than 50 words long\n",
    "df50_10 = df10[df10['cleaned_text_words'] < 50]\n",
    "df50_10.shape"
   ]
  },
  {
   "cell_type": "markdown",
   "id": "efficient-interference",
   "metadata": {},
   "source": [
    "We are left with over 283k rows.  We will now define two thresholds - one for the maximum length of the text, and one for the maximum length of the summary.  Before we do that, however, to reduce the training time of the model and avoid potential memory issues, we will restrict our dataset to a sample of 100k rows."
   ]
  },
  {
   "cell_type": "code",
   "execution_count": 13,
   "id": "falling-occupation",
   "metadata": {},
   "outputs": [],
   "source": [
    "# Select 100k rows at random from the dataset\n",
    "df_sample = df50_10.sample(n = 100000, random_state = 0)"
   ]
  },
  {
   "cell_type": "code",
   "execution_count": 15,
   "id": "corporate-probe",
   "metadata": {},
   "outputs": [],
   "source": [
    "MAX_LEN_TEXT = 50\n",
    "MAX_LEN_SUMMARY = 10"
   ]
  },
  {
   "cell_type": "markdown",
   "id": "latin-virginia",
   "metadata": {},
   "source": [
    "### Splitting into Training and Testing Datasets"
   ]
  },
  {
   "cell_type": "markdown",
   "id": "smart-attraction",
   "metadata": {},
   "source": [
    "We will split our data into two sets - 90% for training and 10% for testing."
   ]
  },
  {
   "cell_type": "code",
   "execution_count": 19,
   "id": "detected-duncan",
   "metadata": {},
   "outputs": [],
   "source": [
    "# Define our X and our y \n",
    "X = df_sample['cleaned_text']\n",
    "y = df_sample['cleaned_summary']"
   ]
  },
  {
   "cell_type": "code",
   "execution_count": 20,
   "id": "automatic-badge",
   "metadata": {},
   "outputs": [],
   "source": [
    "# Split into train and test \n",
    "X_train, X_test, y_train, y_test = train_test_split(X, y, test_size = 0.1, random_state = 0)"
   ]
  },
  {
   "cell_type": "code",
   "execution_count": 21,
   "id": "changing-innocent",
   "metadata": {},
   "outputs": [
    {
     "name": "stdout",
     "output_type": "stream",
     "text": [
      "Size of X_train: (90000,)\n",
      "Size of y_train: (90000,)\n",
      "Size of y_test: (10000,)\n",
      "Size of y_test: (10000,)\n"
     ]
    }
   ],
   "source": [
    "# Print the sizes \n",
    "print('Size of X_train:', X_train.shape)\n",
    "print('Size of y_train:', y_train.shape)\n",
    "print('Size of y_test:', y_test.shape)\n",
    "print('Size of y_test:', y_test.shape)"
   ]
  },
  {
   "cell_type": "markdown",
   "id": "mighty-shame",
   "metadata": {},
   "source": [
    "### Tokenizing the Data"
   ]
  },
  {
   "cell_type": "markdown",
   "id": "ordered-cylinder",
   "metadata": {},
   "source": [
    "#### Tokenize the Review Text"
   ]
  },
  {
   "cell_type": "code",
   "execution_count": 22,
   "id": "engaging-island",
   "metadata": {},
   "outputs": [],
   "source": [
    "# Define a Tokenizer object\n",
    "text_tokenizer = Tokenizer()\n",
    "# Fit on the X_train data\n",
    "text_tokenizer.fit_on_texts(list(X_train))"
   ]
  },
  {
   "cell_type": "code",
   "execution_count": 23,
   "id": "meaning-setup",
   "metadata": {},
   "outputs": [],
   "source": [
    "# Convert the X data into integer sequences \n",
    "X_train = text_tokenizer.texts_to_sequences(X_train)\n",
    "X_test = text_tokenizer.texts_to_sequences(X_test)"
   ]
  },
  {
   "cell_type": "code",
   "execution_count": 24,
   "id": "embedded-instrumentation",
   "metadata": {},
   "outputs": [],
   "source": [
    "# Apply padding to ensure that all sequences are the same length\n",
    "X_train = pad_sequences(X_train, maxlen = MAX_LEN_TEXT, padding = 'post')\n",
    "X_test = pad_sequences(X_test, maxlen = MAX_LEN_TEXT, padding = 'post')"
   ]
  },
  {
   "cell_type": "code",
   "execution_count": 25,
   "id": "expected-oxide",
   "metadata": {},
   "outputs": [
    {
     "name": "stdout",
     "output_type": "stream",
     "text": [
      "Text Vocab Size: 40080\n"
     ]
    }
   ],
   "source": [
    "# Get the vocabulary size for the review text data\n",
    "x_vocab_size = len(text_tokenizer.word_index) + 1\n",
    "print('Text Vocab Size:', x_vocab_size)"
   ]
  },
  {
   "cell_type": "markdown",
   "id": "silent-category",
   "metadata": {},
   "source": [
    "#### Tokenize the Summary Text"
   ]
  },
  {
   "cell_type": "code",
   "execution_count": 26,
   "id": "hydraulic-promise",
   "metadata": {},
   "outputs": [],
   "source": [
    "# Define a Tokenizer object\n",
    "summary_tokenizer = Tokenizer()\n",
    "# Fit on the y_train data\n",
    "summary_tokenizer.fit_on_texts(list(y_train))"
   ]
  },
  {
   "cell_type": "code",
   "execution_count": 27,
   "id": "hindu-packet",
   "metadata": {},
   "outputs": [],
   "source": [
    "# Convert the y data into integer sequences \n",
    "y_train = summary_tokenizer.texts_to_sequences(y_train)\n",
    "y_test = summary_tokenizer.texts_to_sequences(y_test)"
   ]
  },
  {
   "cell_type": "code",
   "execution_count": 28,
   "id": "becoming-arizona",
   "metadata": {},
   "outputs": [],
   "source": [
    "# Apply padding to ensure that all sequences are the same length\n",
    "y_train = pad_sequences(y_train, maxlen = MAX_LEN_SUMMARY, padding = 'post')\n",
    "y_test = pad_sequences(y_test, maxlen = MAX_LEN_SUMMARY, padding = 'post')"
   ]
  },
  {
   "cell_type": "code",
   "execution_count": 29,
   "id": "separated-artwork",
   "metadata": {},
   "outputs": [
    {
     "name": "stdout",
     "output_type": "stream",
     "text": [
      "Summary Vocab Size: 14303\n"
     ]
    }
   ],
   "source": [
    "# Get the vocabulary size for the summary text data\n",
    "y_vocab_size = len(summary_tokenizer.word_index) + 1\n",
    "print('Summary Vocab Size:', y_vocab_size)"
   ]
  },
  {
   "cell_type": "code",
   "execution_count": 70,
   "id": "checked-starter",
   "metadata": {},
   "outputs": [],
   "source": [
    "# Save the cleaned datasets\n",
    "np.savetxt('X_train.csv', X_train, delimiter = ',')\n",
    "np.savetxt('X_test.csv', X_test, delimiter = ',')\n",
    "np.savetxt('y_train.csv', y_train, delimiter = ',')\n",
    "np.savetxt('y_test.csv', y_test, delimiter = ',')"
   ]
  },
  {
   "cell_type": "markdown",
   "id": "public-university",
   "metadata": {},
   "source": [
    "### Building the Model"
   ]
  },
  {
   "cell_type": "markdown",
   "id": "cutting-failure",
   "metadata": {},
   "source": [
    "There are two phases to this project - training and infernece - and each will make use of its own models.  Our task is a many-to-many sequence-to-sequence task, where are input and output sequences are different lenghts.  As such, we are making use of a LSTM encoder-decoder architecture."
   ]
  },
  {
   "cell_type": "markdown",
   "id": "experimental-meeting",
   "metadata": {},
   "source": [
    "#### Building the Training Model"
   ]
  },
  {
   "cell_type": "code",
   "execution_count": 30,
   "id": "compact-vacuum",
   "metadata": {},
   "outputs": [],
   "source": [
    "latent_dim = 500\n",
    "\n",
    "# Encoder\n",
    "encoder_inputs = Input(shape=(MAX_LEN_TEXT,))\n",
    "enc_emb = Embedding(x_vocab_size, latent_dim, trainable=True)(encoder_inputs)\n",
    "\n",
    "# LSTM 1\n",
    "encoder_lstm1 = LSTM(latent_dim, return_sequences=True, return_state=True)\n",
    "encoder_output1, state_h1, state_c1 = encoder_lstm1(enc_emb)\n",
    "\n",
    "# LSTM 2\n",
    "encoder_lstm2 = LSTM(latent_dim, return_sequences=True, return_state=True)\n",
    "encoder_output2, state_h2, state_c2 = encoder_lstm1(encoder_output1)\n",
    "\n",
    "# LSTM 3\n",
    "encoder_lstm3 = LSTM(latent_dim, return_sequences=True, return_state=True)\n",
    "encoder_outputs, state_h, state_c = encoder_lstm1(encoder_output2)\n",
    "\n",
    "# Decoder\n",
    "decoder_inputs = Input(shape=(None,))\n",
    "dec_emb_layer = Embedding(y_vocab_size, latent_dim, trainable=True)\n",
    "dec_emb = dec_emb_layer(decoder_inputs)\n",
    "\n",
    "# LSTM using encoder_states as initial state\n",
    "decoder_lstm = LSTM(latent_dim, return_sequences=True, return_state=True)\n",
    "decoder_ouputs, decoder_fwd_state, decoder_back_state = decoder_lstm(dec_emb, initial_state=[state_h, state_c])\n",
    "\n",
    "# Dense Layer\n",
    "decoder_dense = TimeDistributed(Dense(y_vocab_size, activation='softmax'))\n",
    "decoder_outputs = decoder_dense(decoder_ouputs)\n",
    "\n",
    "# Define the model\n",
    "model = Model([encoder_inputs, decoder_inputs], decoder_outputs)"
   ]
  },
  {
   "cell_type": "code",
   "execution_count": 31,
   "id": "sunrise-wisconsin",
   "metadata": {},
   "outputs": [
    {
     "name": "stdout",
     "output_type": "stream",
     "text": [
      "Model: \"functional_1\"\n",
      "__________________________________________________________________________________________________\n",
      "Layer (type)                    Output Shape         Param #     Connected to                     \n",
      "==================================================================================================\n",
      "input_1 (InputLayer)            [(None, 50)]         0                                            \n",
      "__________________________________________________________________________________________________\n",
      "embedding (Embedding)           (None, 50, 500)      20040000    input_1[0][0]                    \n",
      "__________________________________________________________________________________________________\n",
      "lstm (LSTM)                     [(None, 50, 500), (N 2002000     embedding[0][0]                  \n",
      "                                                                 lstm[0][0]                       \n",
      "                                                                 lstm[1][0]                       \n",
      "__________________________________________________________________________________________________\n",
      "input_2 (InputLayer)            [(None, None)]       0                                            \n",
      "__________________________________________________________________________________________________\n",
      "embedding_1 (Embedding)         (None, None, 500)    7151500     input_2[0][0]                    \n",
      "__________________________________________________________________________________________________\n",
      "lstm_3 (LSTM)                   [(None, None, 500),  2002000     embedding_1[0][0]                \n",
      "                                                                 lstm[2][1]                       \n",
      "                                                                 lstm[2][2]                       \n",
      "__________________________________________________________________________________________________\n",
      "time_distributed (TimeDistribut (None, None, 14303)  7165803     lstm_3[0][0]                     \n",
      "==================================================================================================\n",
      "Total params: 38,361,303\n",
      "Trainable params: 38,361,303\n",
      "Non-trainable params: 0\n",
      "__________________________________________________________________________________________________\n"
     ]
    }
   ],
   "source": [
    "# Print the model summary\n",
    "model.summary()"
   ]
  },
  {
   "cell_type": "code",
   "execution_count": 32,
   "id": "brutal-bearing",
   "metadata": {},
   "outputs": [],
   "source": [
    "# Compile the model\n",
    "model.compile(optimizer='rmsprop', loss='sparse_categorical_crossentropy')"
   ]
  },
  {
   "cell_type": "code",
   "execution_count": 33,
   "id": "alien-privacy",
   "metadata": {},
   "outputs": [],
   "source": [
    "# Define an early stopping callback\n",
    "es = EarlyStopping(monitor='val_loss', mode='min', verbose=1, patience=2)"
   ]
  },
  {
   "cell_type": "code",
   "execution_count": 34,
   "id": "rational-penalty",
   "metadata": {},
   "outputs": [
    {
     "name": "stdout",
     "output_type": "stream",
     "text": [
      "Epoch 1/50\n",
      "176/176 [==============================] - 1107s 6s/step - loss: 2.7253 - val_loss: 2.3212\n",
      "Epoch 2/50\n",
      "176/176 [==============================] - 1194s 7s/step - loss: 2.3044 - val_loss: 2.1687\n",
      "Epoch 3/50\n",
      "176/176 [==============================] - 1177s 7s/step - loss: 2.1770 - val_loss: 2.0906\n",
      "Epoch 4/50\n",
      "176/176 [==============================] - 1158s 7s/step - loss: 2.0849 - val_loss: 2.0292\n",
      "Epoch 5/50\n",
      "176/176 [==============================] - 1103s 6s/step - loss: 2.0016 - val_loss: 1.9781\n",
      "Epoch 6/50\n",
      "176/176 [==============================] - 1106s 6s/step - loss: 1.9270 - val_loss: 1.9283\n",
      "Epoch 7/50\n",
      "176/176 [==============================] - 1080s 6s/step - loss: 1.8588 - val_loss: 1.8957\n",
      "Epoch 8/50\n",
      "176/176 [==============================] - 1084s 6s/step - loss: 1.7968 - val_loss: 1.8710\n",
      "Epoch 9/50\n",
      "176/176 [==============================] - 1082s 6s/step - loss: 1.7385 - val_loss: 1.8571\n",
      "Epoch 10/50\n",
      "176/176 [==============================] - 1076s 6s/step - loss: 1.6827 - val_loss: 1.8448\n",
      "Epoch 11/50\n",
      "176/176 [==============================] - 1085s 6s/step - loss: 1.6279 - val_loss: 1.8361\n",
      "Epoch 12/50\n",
      "176/176 [==============================] - 1079s 6s/step - loss: 1.5759 - val_loss: 1.8386\n",
      "Epoch 13/50\n",
      "176/176 [==============================] - 1105s 6s/step - loss: 1.5248 - val_loss: 1.8384\n",
      "Epoch 00013: early stopping\n"
     ]
    }
   ],
   "source": [
    "# Train the model\n",
    "history = model.fit([X_train, y_train[:,:-1]], y_train.reshape(y_train.shape[0], y_train.shape[1], 1)[:,1:],\n",
    "                  epochs=50, callbacks=[es], batch_size=512, \n",
    "                  validation_data=([X_test, y_test[:,:-1]], y_test.reshape(y_test.shape[0], y_test.shape[1], 1)[:,1:]))"
   ]
  },
  {
   "cell_type": "code",
   "execution_count": 49,
   "id": "physical-reconstruction",
   "metadata": {},
   "outputs": [],
   "source": [
    "# Save the model\n",
    "model.save('model.h5')"
   ]
  },
  {
   "cell_type": "code",
   "execution_count": 52,
   "id": "exposed-baseline",
   "metadata": {},
   "outputs": [
    {
     "data": {
      "image/png": "[encoded data removed]",
      "text/plain": [
       "<Figure size 432x288 with 1 Axes>"
      ]
     },
     "metadata": {
      "needs_background": "light"
     },
     "output_type": "display_data"
    }
   ],
   "source": [
    "# Plot the training and testing losses\n",
    "plt.plot(history.history['loss'], label = 'Training')\n",
    "plt.plot(history.history['val_loss'], label = 'Testing')\n",
    "plt.legend()\n",
    "plt.title('Training and Testing Loss')\n",
    "plt.show()"
   ]
  },
  {
   "cell_type": "markdown",
   "id": "broadband-migration",
   "metadata": {},
   "source": [
    "After training and evaluating the model, we see the results look very promising.  "
   ]
  },
  {
   "cell_type": "markdown",
   "id": "future-screen",
   "metadata": {},
   "source": [
    "We save our tokenizers, as we did our model, for future use elsewhere. "
   ]
  },
  {
   "cell_type": "code",
   "execution_count": 54,
   "id": "coupled-filling",
   "metadata": {},
   "outputs": [],
   "source": [
    "# Save the tokenizers\n",
    "pickle.dump(text_tokenizer, open('text_tokenizer.pkl', 'wb'))\n",
    "pickle.dump(summary_tokenizer, open('summary_tokenizer.pkl', 'wb'))"
   ]
  },
  {
   "cell_type": "markdown",
   "id": "favorite-national",
   "metadata": {},
   "source": [
    "#### Building the Inference Models"
   ]
  },
  {
   "cell_type": "markdown",
   "id": "collectible-conversation",
   "metadata": {},
   "source": [
    "Now that our training model has been built, we are ready for the actual summarization process.  To do this we define two models - an encoder and a decoder.  First, we use the tokenizers to create mappings between the integer sequences of our input and output and the actual words they correspond to in our vocabularies."
   ]
  },
  {
   "cell_type": "code",
   "execution_count": 55,
   "id": "waiting-exemption",
   "metadata": {},
   "outputs": [],
   "source": [
    "reverse_target_word_index = summary_tokenizer.index_word \n",
    "reverse_source_word_index = text_tokenizer.index_word \n",
    "target_word_index = summary_tokenizer.word_index"
   ]
  },
  {
   "cell_type": "markdown",
   "id": "eastern-museum",
   "metadata": {},
   "source": [
    "#### Build the Encoder and Decoder Inference Models"
   ]
  },
  {
   "cell_type": "code",
   "execution_count": 56,
   "id": "crude-document",
   "metadata": {},
   "outputs": [],
   "source": [
    "# Encoder inference\n",
    "encoder_model = Model(inputs=encoder_inputs, outputs=[encoder_outputs, state_h, state_c])\n",
    "\n",
    "# Decoder inference\n",
    "# Below tensors will hold the states of the previous time step\n",
    "decoder_state_input_h = Input(shape=(latent_dim,))\n",
    "decoder_state_input_c = Input(shape=(latent_dim,))\n",
    "decoder_hidden_state_input = Input(shape=(MAX_LEN_TEXT, latent_dim))\n",
    "\n",
    "# Get the embeddings of the decoder sequence\n",
    "dec_emb2 = dec_emb_layer(decoder_inputs)\n",
    "\n",
    "# To predict the next word in the sequence, set the initial states to the states from the previous time step\n",
    "decoder_outputs2, state_h2, state_c2 = decoder_lstm(dec_emb2, initial_state=[decoder_state_input_h, decoder_state_input_c])\n",
    "\n",
    "# A dense softmax layer to generate prob dist. over the target vocabulary\n",
    "decoder_outputs2 = decoder_dense(decoder_outputs2)\n",
    "\n",
    "# Final decoder model\n",
    "decoder_model = Model(\n",
    "[decoder_inputs] + [decoder_hidden_state_input, decoder_state_input_h, decoder_state_input_c],\n",
    "[decoder_outputs2] + [state_h2, state_c2])"
   ]
  },
  {
   "cell_type": "code",
   "execution_count": 57,
   "id": "convinced-shield",
   "metadata": {},
   "outputs": [],
   "source": [
    "# Save the encoder model \n",
    "encoder_model.save('encoder_model.h5')"
   ]
  },
  {
   "cell_type": "code",
   "execution_count": 58,
   "id": "downtown-eugene",
   "metadata": {},
   "outputs": [],
   "source": [
    "# Save the decoder model\n",
    "decoder_model.save('decoder_model.h5')"
   ]
  },
  {
   "cell_type": "markdown",
   "id": "blessed-kingston",
   "metadata": {},
   "source": [
    "### Producing Summaries"
   ]
  },
  {
   "cell_type": "markdown",
   "id": "unique-poetry",
   "metadata": {},
   "source": [
    "We now use these models to produce our summaries.  "
   ]
  },
  {
   "cell_type": "code",
   "execution_count": 59,
   "id": "aggregate-america",
   "metadata": {},
   "outputs": [],
   "source": [
    "def decode_sequence(input_seq):\n",
    "    # Encode the input as state vectors.\n",
    "    e_out, e_h, e_c = encoder_model.predict(input_seq)\n",
    "\n",
    "    # Generate empty target sequence of length 1.\n",
    "    target_seq = np.zeros((1,1))\n",
    "\n",
    "    # Chose the 'start' word as the first word of the target sequence\n",
    "    target_seq[0, 0] = target_word_index['start']\n",
    "\n",
    "    stop_condition = False\n",
    "    decoded_sentence = ''\n",
    "    while not stop_condition:\n",
    "        output_tokens, h, c = decoder_model.predict([target_seq] + [e_out, e_h, e_c])\n",
    "\n",
    "        # Sample a token\n",
    "        \n",
    "        sampled_token_index = np.argmax(output_tokens[0, -1, :])\n",
    "        \n",
    "        sampled_token = reverse_target_word_index[sampled_token_index]\n",
    "\n",
    "        if(sampled_token!='end'):\n",
    "            decoded_sentence += ' '+sampled_token\n",
    "\n",
    "        # Exit condition: either hit max length or find stop word.\n",
    "        if (sampled_token == 'end' or len(decoded_sentence.split()) >= (MAX_LEN_SUMMARY-1)):\n",
    "            stop_condition = True\n",
    "\n",
    "        # Update the target sequence (of length 1).\n",
    "        target_seq = np.zeros((1,1))\n",
    "        target_seq[0, 0] = sampled_token_index\n",
    "\n",
    "        # Update internal states\n",
    "        e_h, e_c = h, c\n",
    "\n",
    "    return decoded_sentence"
   ]
  },
  {
   "cell_type": "markdown",
   "id": "challenging-ghost",
   "metadata": {},
   "source": [
    "In this section we will evaluate our model on our testing data.  To do this we make use of the mappings we created with our tokenizers.  We must convert the integers of the input and output sequences to their corresponding English words."
   ]
  },
  {
   "cell_type": "code",
   "execution_count": 60,
   "id": "trying-occurrence",
   "metadata": {},
   "outputs": [],
   "source": [
    "def seq2summary(input_seq):\n",
    "    \"\"\"\n",
    "    Take the summary sequence and retrieve the words from the summary tokenizer.\n",
    "    \"\"\"\n",
    "    newString=''\n",
    "    for i in input_seq:\n",
    "        if ((i!=0 and i!=target_word_index['start']) and i!=target_word_index['end']):\n",
    "            newString=newString+reverse_target_word_index[i]+' '\n",
    "    return newString\n",
    "\n",
    "def seq2text(input_seq):\n",
    "    \"\"\"\n",
    "    Take the input sequence and retrieve the words from the text tokenizer.\n",
    "    \"\"\"\n",
    "    newString=''\n",
    "    for i in input_seq:\n",
    "        if (i!=0):\n",
    "            newString=newString+reverse_source_word_index[i]+' '\n",
    "    return newString"
   ]
  },
  {
   "cell_type": "markdown",
   "id": "published-stream",
   "metadata": {},
   "source": [
    "We use the models and these functions to generate summaries for the first 100 rows of the testing data.  For each of these, we compare the generated summary to the actual summary. "
   ]
  },
  {
   "cell_type": "code",
   "execution_count": 61,
   "id": "verbal-receipt",
   "metadata": {},
   "outputs": [
    {
     "name": "stdout",
     "output_type": "stream",
     "text": [
      "Review: glad find amazon looking store long time absolutely makes best cheeseball alternatives better nothing makes delish \n",
      "Original summary: simply the best \n",
      "Predicted summary:  best ever\n",
      "\n",
      "\n",
      "Review: bought product review read said dissolved easily dissolve cold broth clumps heating mess cooked egg powder hard lumps one nauseous chemo trying get nutrition satisfactory secret method make work packaging \n",
      "Original summary: does not dissolve easily \n",
      "Predicted summary:  not what expected\n",
      "\n",
      "\n",
      "Review: two boxes tea bags really great tea white tea best tea \n",
      "Original summary: best tea \n",
      "Predicted summary:  great tea\n",
      "\n",
      "\n",
      "Review: great item daughter came back summer camp wanted healthy loaded vitamin could find local stores found amazon bought couple cases \n",
      "Original summary: nuggets \n",
      "Predicted summary:  great product\n",
      "\n",
      "\n",
      "Review: satisfied quick delivery course barry decaf tea best decaf tea tried full bodied staple mine years bought amazon br br peggy \n",
      "Original summary: barry irish breakfast tea decaf \n",
      "Predicted summary:  great tea\n",
      "\n",
      "\n",
      "Review: ordered granddaughter loves much hide everybody else \n",
      "Original summary: berry berry kix \n",
      "Predicted summary:  great\n",
      "\n",
      "\n",
      "Review: great product expect sweet sugar coconut tasting water expect something completely different totally body especially living midwest summer every time reach something drink non stop degree weather ok getting one fridge fact online right increase shipment number excellent product \n",
      "Original summary: awesome \n",
      "Predicted summary:  great product\n",
      "\n",
      "\n",
      "Review: love product organic always try buy organic good source oof fiber little sugar great tasting also would recommend product highly \n",
      "Original summary: cascadian organic granola bars \n",
      "Predicted summary:  great cereal\n",
      "\n",
      "\n",
      "Review: krispies arrived fresh long shelf life good live alone boxes cereal last good long time \n",
      "Original summary: fresh with plenty of shelf life \n",
      "Predicted summary:  great cereal\n",
      "\n",
      "\n",
      "Review: product came time well sealed bags taste good morning cereal bowl also plan use meals meat loaf cookies \n",
      "Original summary: bob red mill golden flaxseed meal \n",
      "Predicted summary:  good product\n",
      "\n",
      "\n",
      "Review: oreo birthday cake cookies simply divine could eat whole box lol know shouldnt cant taste exactly like birthday cake yummy \n",
      "Original summary: great cookie \n",
      "Predicted summary:  best ever\n",
      "\n",
      "\n",
      "Review: husband loved tasted consistency ran regular thought extra fat made stick roofs mouths yuck reason stars still contains lot fat eat though careful rest day long plan meals great highly recommend \n",
      "Original summary: loved the taste and consistency \n",
      "Predicted summary:  tasty\n",
      "\n",
      "\n",
      "Review: used pro plan dog food years dogs excellent results itching scratching subpar ingredients pro plan uses excellent ingredients benefit dog nutritional needs amazon best price especially prime delivery saves wrestle bag pet store \n",
      "Original summary: best dog food for our doxies \n",
      "Predicted summary:  great food\n",
      "\n",
      "\n",
      "Review: found shampoo felt good head hair also scent bottle pleasure use shampoo seems work well says made everyday use feel worried using scalp benefit using although think problem dandruff br need shampoo feel comfortable using \n",
      "Original summary: feel good shampoo \n",
      "Predicted summary:  great for hair\n",
      "\n",
      "\n",
      "Review: expecting really taste pepper sea salt might want look bit settling bar taste salt right away quickly overwhelmed chocolate pepper sadly indiscernable may mixed chocolate lightly layered onto bottom bar well crafted overall disappointing otherwise \n",
      "Original summary: nice but lacking in flavor \n",
      "Predicted summary:  not what expected\n",
      "\n",
      "\n",
      "Review: really enjoyed using coconut sugar used baking oatmeal chocolate chip cookies flavor texture great tried substituting agave cookies texture suffers pleased healthier sugar alternative cannot detect flavor difference worth switching madhava \n",
      "Original summary: love it \n",
      "Predicted summary:  great taste\n",
      "\n",
      "\n",
      "Review: great delivered directly doorstep makes much easier shop healthy food choices running grocery store \n",
      "Original summary: calorie snacks \n",
      "Predicted summary:  great product\n",
      "\n",
      "\n",
      "Review: ordered dozen strawberries hoping tasty treat share valentines day br br imagine surprise instead received dozen roses small box chocolates second item ordered received today ordered br br ridiculous epic fail \n",
      "Original summary: epic failure \n",
      "Predicted summary:  not as good as the picture\n",
      "\n",
      "\n",
      "Review: use cocoa daily hot cocoa sensitive nuances taste cocoa quite good although rich tasting say hershey gourmet cocoa powders milder considering price well worth also used baking difference flavor may matter \n",
      "Original summary: good cocoa \n",
      "Predicted summary:  good but not great\n",
      "\n",
      "\n",
      "Review: good product product title misleading similar ready made sauce mix suggest title change would good also try product amazon prime \n",
      "Original summary: misleading \n",
      "Predicted summary:  not what expected\n",
      "\n",
      "\n",
      "Review: item received excellent condition timely fashion exactly described thanks offering item hard find \n",
      "Original summary: excellent item \n",
      "Predicted summary:  great product\n",
      "\n",
      "\n",
      "Review: one boxes good fresh box recieved dry could tell sitting shelf little long take chances \n",
      "Original summary: depends on the box \n",
      "Predicted summary:  good but\n",
      "\n",
      "\n",
      "Review: organic certified tea rich smooth fullbodied bitterness spoiled hay flavor teas unfortunately stands fine milk bit sugar one new favorites buy recommended completely \n",
      "Original summary: smooth tea \n",
      "Predicted summary:  delicious\n",
      "\n",
      "\n",
      "Review: loved shared dad loves toothpick mouth glad spice mouth also sugar free since diabetic gets taste negative side effects health \n",
      "Original summary: spicy flavored toothpicks \n",
      "Predicted summary:  great candy\n",
      "\n",
      "\n",
      "Review: bought various flavors caring candies well made look great candies would call blander licorice one brimming great licorice flavoring know sugar free candies never know going get like licorice like even husband really likes \n",
      "Original summary: best candy so far \n",
      "Predicted summary:  great gift\n",
      "\n",
      "\n",
      "Review: product tasted horrible would recommend anyone ever says cherry mint say toothpaste want water tastes good better drink water \n",
      "Original summary: horrible taste \n",
      "Predicted summary:  not what expected\n",
      "\n",
      "\n",
      "Review: addicted gum strong like always arrived fresh exactly expected enjoy \n",
      "Original summary: yum \n",
      "Predicted summary:  great gift\n",
      "\n",
      "\n",
      "Review: always prefer loose tea bagged like difference canned coffee freshly ground however leaves lacked flavor made weak cup tea disappointed \n",
      "Original summary: not lot of \n",
      "Predicted summary:  not my favorite tea\n",
      "\n",
      "\n",
      "Review: wildrice mix tasted mite hard cooking left long got mooshy timing critical timing rice comes perfect minutes pure natural non chemical taste wholesome blend nice mix flavor \n",
      "Original summary: good taste \n",
      "Predicted summary:  best ever\n",
      "\n",
      "\n",
      "Review: instructions clear juice excellent everything gone planned far weeks process expect drinkable wine said done \n",
      "Original summary: solid product \n",
      "Predicted summary:  it is ok\n",
      "\n",
      "\n",
      "Review: would able tell difference chocolate bar versus piece dark chocolate son multiple food allergies even allergic rice cannot alot enjoy life products however loves bars \n",
      "Original summary: awesome chocolate bar \n",
      "Predicted summary:  quaker soft baked oatmeal cookies\n",
      "\n",
      "\n",
      "Review: coffee great referred friend decided try rich flavor great price cannot beat \n",
      "Original summary: great choice \n",
      "Predicted summary:  great coffee\n",
      "\n",
      "\n",
      "Review: got oz boxes using subscribe save feature great deal shipping charges either cheerios one time favorites deal cannot beat amount cereal go \n",
      "Original summary: cheerios are still one of my favorites \n",
      "Predicted summary:  great price\n",
      "\n",
      "\n",
      "Review: many summers picking blueberries maine long passion blueberries granola perfect taste summer love bite blueberries year around truly tastes like picked blueberries fresh natural delicious \n",
      "Original summary: blueberry bites \n",
      "Predicted summary:  delicious\n",
      "\n",
      "\n",
      "Review: love vanilla brand pretty good favor intense nielsen massey brand bit cheaper bit less viscous disperse well even hot water wait stir bit plastic bottles lend bit plastic taste product purchase \n",
      "Original summary: good taste but not top notch \n",
      "Predicted summary:  great tasting\n",
      "\n",
      "\n",
      "Review: got single pot sample coffee enjoyed much get heartburn quite frequently often feel coffee one causes nice option sample pre ground usually grind brew look forward trying whole bean version future \n",
      "Original summary: really nice delivers on low acid promise \n",
      "Predicted summary:  good coffee\n",
      "\n",
      "\n",
      "Review: stuff horrid buy stuff one would give stuff devil br buy stuff risk \n",
      "Original summary: this stuff is horrid \n"
     ]
    },
    {
     "name": "stdout",
     "output_type": "stream",
     "text": [
      "Predicted summary:  disgusting\n",
      "\n",
      "\n",
      "Review: subscription buy take camping instead dragging along milk needs cooler give daughter milk lunch since allergic animal milks school great snack craving something sweet feel better getting protein calcium sugar rush pop one bag way work without cooler needed even use one mix coffee afternoons mocha latte \n",
      "Original summary: convenient and great taste \n",
      "Predicted summary:  my son favorite\n",
      "\n",
      "\n",
      "Review: tasted brands flax milk brand best far creamy brands really creamy slight taste little nutty guess cannot wait order amazon hope shipping reasonable \n",
      "Original summary: the best flax milk on the market \n",
      "Predicted summary:  best ever\n",
      "\n",
      "\n",
      "Review: really nice aroma opened packet mixture lemon ginger taste lemon particularly hold mouth moment ginger taste really prevalent flavor kick get eat fresh pickled ginger enjoy drink weird unpleasant aftertaste would like something like actual product probably would make grocery cart \n",
      "Original summary: strong ginger taste weird aftertaste \n",
      "Predicted summary:  not what expected\n",
      "\n",
      "\n",
      "Review: thick broth tasty tender white chicken salty best canned soup ever even better fresh available many big box member store deli departments \n",
      "Original summary: homemade taste \n",
      "Predicted summary:  best jerky ever\n",
      "\n",
      "\n",
      "Review: one favorite bars peanut butter flavor really comes bar keeps satisfied lunch time love \n",
      "Original summary: peanut butter satisfaction \n",
      "Predicted summary:  yummy\n",
      "\n",
      "\n",
      "Review: thought getting great deal product fault guess reading reviews going lipton description sweetened honey sucralose splenda actual sweetener honey sickening artificial taste ruins could lovely product splenda natural product relation honey along reviews also gives fierce migraines added kick available returns shame lipton last lipton product ever buy \n",
      "Original summary: have been \n",
      "Predicted summary:  not what expected\n",
      "\n",
      "\n",
      "Review: love raisins oatmeal auto delivery great always go bag cupboard good price pack better stores area raisins always fresh sealing bags great \n",
      "Original summary: same as the store just cheaper \n",
      "Predicted summary:  great product\n",
      "\n",
      "\n",
      "Review: cooked eggs last backpacking trip wks ago great tasted fresh eggs \n",
      "Original summary: tasted great \n",
      "Predicted summary:  delicious\n",
      "\n",
      "\n",
      "Review: say twizzlers yummy sugary delights stick yum arrived fresh look love twizzlers makes nice gift twizzler lover comes twizzler canister \n",
      "Original summary: they are twizzlers \n",
      "Predicted summary:  delicious\n",
      "\n",
      "\n",
      "Review: used get time stores stopped carrying switched manwich thick chunky wake heinz taking favorites away flavor always good smooth miss feel price much go without manwich \n",
      "Original summary: liked this when could get it \n",
      "Predicted summary:  best tasting\n",
      "\n",
      "\n",
      "Review: daughter loves ella kitchen meals thought getting pack six price one buy locally \n",
      "Original summary: expensive \n",
      "Predicted summary:  great product\n",
      "\n",
      "\n",
      "Review: dingo stix thing great product healthy ingredients bad preservatives \n",
      "Original summary: dogs love them \n",
      "Predicted summary:  not for my kids\n",
      "\n",
      "\n",
      "Review: absolutely favorite tea someone needs cut back caffeine tea full flavor without hint bitterness found decafs close flavor british breakfast teas typhoo smooth cheerful bit pricey recommend purchasing quantities garner free shipping stores well long periods break open inner seal \n",
      "Original summary: great decaf tea \n",
      "Predicted summary:  best tea ever\n",
      "\n",
      "\n",
      "Review: recently purchased product never used stand alone product usually use products contain coconut oil found great moisturizer skin hair smells wonderful young nieces use skin also love one nieces thinks smells like pound cake oil though hard use moisturizer right jar put spray bottle much better recommend good moisturizer \n",
      "Original summary: smells so good \n",
      "Predicted summary:  great product\n",
      "\n",
      "\n",
      "Review: son loves baked lays school lunch could find single serve bags anywhere know thankfully amazon rescue around cents bag happy son happy arrived fast long expiration date none crushed anything \n",
      "Original summary: perfect lunch box treat \n",
      "Predicted summary:  great for kids\n",
      "\n",
      "\n",
      "Review: expecting receive order fast received date given br know something good would taste good br thanks healthy addition new year \n",
      "Original summary: go for it \n",
      "Predicted summary:  tasty\n",
      "\n",
      "\n",
      "Review: need read review granola bars truly sorry kidding subscription service awesome \n",
      "Original summary: love me some granola bars \n",
      "Predicted summary:  chocolate lover\n",
      "\n",
      "\n",
      "Review: good strong cup smooth bitter like french roast another contender first cup morning jet fuel \n",
      "Original summary: black tiger \n",
      "Predicted summary:  great coffee\n",
      "\n",
      "\n",
      "Review: drink lot tea particularly herbal tea like wide variety options get sick sadly grocery store sell variety pack perfect without doubt ginger twist best tea set good also enjoy silly little messages put tea bag husband month subscription perfect amazon sends us run \n",
      "Original summary: very yummy winter warm up \n",
      "Predicted summary:  best tea ever\n",
      "\n",
      "\n",
      "Review: users zipfizz since first came good kick energy working travel easy put carry energy boost road \n",
      "Original summary: great boost and flavor in tube \n",
      "Predicted summary:  good stuff\n",
      "\n",
      "\n",
      "Review: bought box last week arrived quickly found fresh variety packs bought costco ordering today \n",
      "Original summary: fast and fresh \n",
      "Predicted summary:  great\n",
      "\n",
      "\n",
      "Review: cats love push way get bowl put love tiki cat grain free high quality food also crude protein high making great maintaining urinary tract health something worry since ladies seniors \n",
      "Original summary: my cats love this food \n",
      "Predicted summary:  my cat loves this food\n",
      "\n",
      "\n",
      "Review: first tasted honey local coffee tea shop nyc years ago nothing quite like unique taste whether scone muffin croissant pot tea brighten day \n",
      "Original summary: absolutely unique \n",
      "Predicted summary:  delicious\n",
      "\n",
      "\n",
      "Review: bars good assortment nuts like chewy texture extremely sweet probably need water milk wash \n",
      "Original summary: tasty but very sweet \n",
      "Predicted summary:  good snack\n",
      "\n",
      "\n",
      "Review: wonderful pistachios high quality closed bad nuts great price wonderful incentive buy like pistachios \n",
      "Original summary: great quality great price \n",
      "Predicted summary:  great product\n",
      "\n",
      "\n",
      "Review: impressed quality product box yet find burst creamer br br creamers others require nice little shake prior pouring coffee eliminate dreaded curdled appearance br br highly recommend product order \n",
      "Original summary: bulk ordering for meetings \n",
      "Predicted summary:  great product\n",
      "\n",
      "\n",
      "Review: mean lifesavers crying loud pop day size package good buy \n",
      "Original summary: what can say \n",
      "Predicted summary:  good deal\n",
      "\n",
      "\n",
      "Review: man love little suckers pack much flavor lil bear \n",
      "Original summary: cool snack for cool kids \n",
      "Predicted summary:  delicious\n",
      "\n",
      "\n",
      "Review: german born husband loves organic fact used buy bread local health food stores stopped carrying months ago replaced non organic version br br husband stopped decided look online found finally come depression loves br br always fresh tasting shelf stable \n",
      "Original summary: have happy husband now \n",
      "Predicted summary:  best deal on the market\n",
      "\n",
      "\n",
      "Review: best coffee found use make homemade espresso blown away first time tasted easily matches fresh espresso find american coffeeshops \n",
      "Original summary: this is it for homemade espresso \n",
      "Predicted summary:  best coffee ever\n",
      "\n",
      "\n",
      "Review: come large plastic bag double bagged minimal olive oil brine tasty small medium sized brown black olives pitted fan kalamata olives heaven good even started eating snack go salt rest week yum \n",
      "Original summary: delicious \n",
      "Predicted summary:  delicious\n",
      "\n",
      "\n",
      "Review: weiner dogs dingo mini bone every day last thing go bed br love \n",
      "Original summary: good chews \n",
      "Predicted summary:  dog chews\n",
      "\n",
      "\n",
      "Review: cannot find product grocery stores area ordered amazon please product quality delivery amazon assistance purchase specific popcorn tender white right flavor tastes much choice tender white popcorn brands found tried liking \n",
      "Original summary: white popcorn lover \n",
      "Predicted summary:  great popcorn\n",
      "\n",
      "\n",
      "Review: hard time finding local stores found expiration date much farther purchased online \n",
      "Original summary: wafers \n",
      "Predicted summary:  product of seller\n",
      "\n",
      "\n",
      "Review: wife love rice would logged try getting cheaper bulk apparently local whole foods price best currently less per bottle \n",
      "Original summary: excellent on rice \n",
      "Predicted summary:  great deal\n",
      "\n",
      "\n",
      "Review: excited try new flavor enjoy variety various cups unfortunately neither husband like flavor agree another poster tastes burnt \n",
      "Original summary: disappointing strong unpleasant flavor \n"
     ]
    },
    {
     "name": "stdout",
     "output_type": "stream",
     "text": [
      "Predicted summary:  not what was expecting\n",
      "\n",
      "\n",
      "Review: find tassimo coffee maker along coffee products beyond belief great items \n",
      "Original summary: great coffee \n",
      "Predicted summary:  coffee\n",
      "\n",
      "\n",
      "Review: need gluten free product diet good eat gluten free readily available local stores online purchase much appreciated \n",
      "Original summary: maple buckwheat flakes gluten free \n",
      "Predicted summary:  great gluten free pasta\n",
      "\n",
      "\n",
      "Review: purchased starbucks whim starving figured would give whirl subscription delivery amazon product best potato chip problem finish whole bag crack open second third defeats purpose trying eat little healthier chip oh well damn good \n",
      "Original summary: you can not find better chip \n",
      "Predicted summary:  not what was expecting\n",
      "\n",
      "\n",
      "Review: nuts oz jar knorr seasoning meat worth coming price br please get real smell roses \n",
      "Original summary: are you nuts \n",
      "Predicted summary:  not what expected\n",
      "\n",
      "\n",
      "Review: bzz agent received coupon try package thomas bagel thins free buy regular bagels quite often got package plain bagel thins would say taste similar regular bagels like reduced amount calories also nice convenience makes easy toast prepare would recommend anyone likes bagels wants watch caloric intake \n",
      "Original summary: these are good idea \n",
      "Predicted summary:  great for cooking\n",
      "\n",
      "\n",
      "Review: love love product enjoy cup every afternoon glad amazon carries product probably join subscription recieve every months hand time everyone family loves \n",
      "Original summary: chai tea \n",
      "Predicted summary:  great product\n",
      "\n",
      "\n",
      "Review: live usa grew canada used buy camel brand small cans canada excited find amazon tasted great perfect sized portions every bit good remembered also thought price awesome included shipping even bought sent sister \n",
      "Original summary: yummy memory of the past \n",
      "Predicted summary:  great product\n",
      "\n",
      "\n",
      "Review: love nuts seems stores carry flavors jalapeno hesitate order cannot find next time gotta em \n",
      "Original summary: blue diamond jalapeno almonds \n",
      "Predicted summary:  love these\n",
      "\n",
      "\n",
      "Review: headline says flowers good condition bouquet rather small quite disappointing taking consideration reviews delievery days early better early late guess \n",
      "Original summary: small bouquet \n",
      "Predicted summary:  not what expected\n",
      "\n",
      "\n",
      "Review: exactly would expect spam taste looks like would get store thanks amazon com \n",
      "Original summary: exactly as you would expect from spam \n",
      "Predicted summary:  it is ok\n",
      "\n",
      "\n",
      "Review: bought case needed gluten free tortilla chips serve guest good family wants buy time thin crispy nice salty went reorder available bought classic yellow corn like thick funny flavor glad back extra thin \n",
      "Original summary: our favorite tortilla chips \n",
      "Predicted summary:  delicious\n",
      "\n",
      "\n",
      "Review: chocolate metromint water favorite actually prefer refrigerated means winner lunches worry keeping refrigerated taste light hint chocolate mint unlike mint beverages mint overwhelming refreshes natural flavoring require sugar flavor healthier soda cannot think better way get daily water requirement problem cannot keep enough house \n",
      "Original summary: light flavorful refreshing taste \n",
      "Predicted summary:  delicious\n",
      "\n",
      "\n",
      "Review: buy product son low wheat diet pretty good others noted must cook rice pasta longer box indicates edible pasta cooked prepare like would prepare typical box mix extra minute two also better heat mixture cooking pot pan blends everything together really well opinion good follow preparation directions \n",
      "Original summary: good substitute for regular box mac cheese \n",
      "Predicted summary:  good for you\n",
      "\n",
      "\n",
      "Review: prepara herb savor pod advertised holding asparagus purchased thinking would good keeping asparagus fresh reality pod hold spears would need quite thin short ad misleading keep storing herbs asparagus question \n",
      "Original summary: the picture is misleading \n",
      "Predicted summary:  not as pictured\n",
      "\n",
      "\n",
      "Review: ordered coffee along tree hugger wasnt sure going live tree hugger husband agree delicious cup coffee since recently gave putting cream milk coffee find drink coffee black enjoy every sip prefer med bold cup coffee fits bill perfectly like pod type cup eco friendly totally plastic kcups purchasing coffee \n",
      "Original summary: great coffee \n",
      "Predicted summary:  the best coffee ever\n",
      "\n",
      "\n",
      "Review: tried brands hazelnut coffee years find good drink almost every morning would highly recommend brand hazelnut coffee keurig machine \n",
      "Original summary: excellent \n",
      "Predicted summary:  great coffee\n",
      "\n",
      "\n",
      "Review: love monin syrups coffee looking reasonable price found amazon mention free shipping sure helps times like \n",
      "Original summary: great price superior product \n",
      "Predicted summary:  great product\n",
      "\n",
      "\n",
      "Review: ordered lucky country licorice black cheery oz tubs received sent black currant awful \n",
      "Original summary: not what ordered \n",
      "Predicted summary:  not what expected\n",
      "\n",
      "\n",
      "Review: product perfect trouble son bottle nice way fool love organic veggies \n",
      "Original summary: perfect for toddlers \n",
      "Predicted summary:  great product\n",
      "\n",
      "\n",
      "Review: disappointed candy mentioned many previous reviews cheap penny candy much bought store today kind expected mean going produce old candy packages still making somewhere br br really disappointed amount total worth candy box maybe box cute tiny would better little research put together box times amount money \n",
      "Original summary: not worth the money \n",
      "Predicted summary:  not as pictured\n",
      "\n",
      "\n",
      "Review: aerogarden excellent product romaine lettuce seeds reviewing well far cherry tomato seeds several batches cherry tomato seeds gotten grow far seem grow extremely slowly none produced fruit much better micro tom tomato seeds purchased seed company highly recommend romaine lettuce seeds however \n",
      "Original summary: the good and not so good seeds \n",
      "Predicted summary:  great product\n",
      "\n",
      "\n",
      "Review: love morning iced lattes notice strange aftertaste suppose depends put coffee overpower aftertaste would \n",
      "Original summary: great for coffee drinks \n",
      "Predicted summary:  not bad but not great\n",
      "\n",
      "\n",
      "Review: tips high quality tea buying quantity amazon com better value purchasing individually import grocery stores \n",
      "Original summary: excellent tea \n",
      "Predicted summary:  great tea\n",
      "\n",
      "\n",
      "Review: great grab go snack satisfy love pop corn eat much husband hates breath eating movies take grandpa po originals instead keeps bag know soy beans healthy way enjoy eat love \n",
      "Original summary: grandpa po originals are deliciously addicting \n",
      "Predicted summary:  great snack\n",
      "\n",
      "\n",
      "Review: love lemon drop mix friend bought wanted could find store ordered love add vodka shake ice think might try \n",
      "Original summary: love it \n",
      "Predicted summary:  great\n",
      "\n",
      "\n",
      "Review: cinnamon lover love taste spry cinnamon gum one gums market right without aspartame \n",
      "Original summary: love it \n",
      "Predicted summary:  best gum ever\n",
      "\n",
      "\n",
      "Review: maybe latte creamy used fat free half half creamy green tea latte still good product though prefer tea bags one thanks bunch \n",
      "Original summary: chai tea \n",
      "Predicted summary:  good tea\n",
      "\n",
      "\n"
     ]
    }
   ],
   "source": [
    "for i in range(100):\n",
    "    print(\"Review:\",seq2text(X_test[i]))\n",
    "    print(\"Original summary:\",seq2summary(y_test[i]))\n",
    "    print(\"Predicted summary:\",decode_sequence(X_test[i].reshape(1, MAX_LEN_TEXT)))\n",
    "    print(\"\\n\")"
   ]
  },
  {
   "cell_type": "markdown",
   "id": "economic-trinity",
   "metadata": {},
   "source": [
    "Overall, we are very happy with these results.  The summaries are short, as were the training summaries, but for the most part they are very accurate when compared to the originals.  "
   ]
  },
  {
   "cell_type": "code",
   "execution_count": null,
   "id": "tamil-pavilion",
   "metadata": {},
   "outputs": [],
   "source": []
  }
 ],
 "metadata": {
  "kernelspec": {
   "display_name": "Python [conda env:AIDI2004_PROJECT]",
   "language": "python",
   "name": "conda-env-AIDI2004_PROJECT-py"
  },
  "language_info": {
   "codemirror_mode": {
    "name": "ipython",
    "version": 3
   },
   "file_extension": ".py",
   "mimetype": "text/x-python",
   "name": "python",
   "nbconvert_exporter": "python",
   "pygments_lexer": "ipython3",
   "version": "3.8.8"
  }
 },
 "nbformat": 4,
 "nbformat_minor": 5
}
